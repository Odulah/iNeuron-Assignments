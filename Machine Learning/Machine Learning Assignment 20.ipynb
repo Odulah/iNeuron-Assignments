{
 "cells": [
  {
   "cell_type": "markdown",
   "id": "b2aa57f2",
   "metadata": {},
   "source": [
    "# Assignment 20 Solutions"
   ]
  },
  {
   "cell_type": "markdown",
   "id": "111120c6",
   "metadata": {},
   "source": [
    "##### 1. What is the underlying concept of Support Vector Machines ?"
   ]
  },
  {
   "cell_type": "markdown",
   "id": "935ecb0f",
   "metadata": {},
   "source": [
    "The underlying concept of Support Vector Machines (SVMs) is to find the optimal hyperplane that separates the data points of different classes in a high-dimensional feature space. In other words, SVM is a machine learning algorithm that finds a decision boundary (hyperplane) that maximizes the margin between the two classes in the feature space."
   ]
  },
  {
   "cell_type": "markdown",
   "id": "4ae857d4",
   "metadata": {},
   "source": [
    "##### 2. What is the concept of a support vector ?"
   ]
  },
  {
   "cell_type": "markdown",
   "id": "7b4f46fa",
   "metadata": {},
   "source": [
    "In Support Vector Machines (SVMs), a support vector is a data point from either of the two classes that lie closest to the decision boundary (hyperplane). These points have a significant impact on the position and orientation of the decision boundary because they help define the margin, which is the distance between the hyperplane and the closest data points from both classes.\n",
    "\n",
    "Support vectors are crucial in SVM because they are the points that determine the optimal hyperplane that maximizes the margin. Therefore, they are the only data points that need to be considered in training the SVM, rather than the entire dataset."
   ]
  },
  {
   "cell_type": "markdown",
   "id": "c981ac1e",
   "metadata": {},
   "source": [
    "##### 3. When using SVMs, why is it necessary to scale the inputs ?"
   ]
  },
  {
   "cell_type": "markdown",
   "id": "c7c7f850",
   "metadata": {},
   "source": [
    "It is necessary to scale the inputs when using SVMs because SVMs are sensitive to the scale of the features. In other words, the range of the input features can have a significant impact on the SVM's performance.\n",
    "\n",
    "When the input features have different scales, the SVM may assign more importance to features with larger values and less importance to features with smaller values. This can lead to a suboptimal decision boundary and poorer performance.\n",
    "\n",
    "Scaling the inputs helps to bring all the features to the same scale, which makes the SVM treat all the features equally. This can lead to a better decision boundary and improved performance.\n",
    "\n",
    "There are several scaling methods that can be used, such as standardization (scaling the features to have zero mean and unit variance) or normalization (scaling the features to a specific range, such as [0,1] or [-1,1]).\n",
    "\n",
    "In summary, scaling the inputs is necessary when using SVMs because it helps to bring all the features to the same scale and ensures that the SVM treats all the features equally. This can lead to a better decision boundary and improved performance."
   ]
  },
  {
   "cell_type": "markdown",
   "id": "07ab2a64",
   "metadata": {},
   "source": [
    "##### 4. When an SVM classifier classifies a case, can it output a confidence score? What about a percentage chance ? "
   ]
  },
  {
   "cell_type": "markdown",
   "id": "92cb6c19",
   "metadata": {},
   "source": [
    "Yes, an SVM classifier can output a confidence score or a percentage chance for its classification decision, depending on the type of SVM and the specific implementation.\n",
    "\n",
    "For a linear SVM, the confidence score is the distance of the test case to the decision boundary. The farther the test case is from the decision boundary, the higher the confidence score, and vice versa. The sign of the confidence score indicates the predicted class of the test case.\n",
    "\n",
    "For a nonlinear SVM that uses a kernel function, the confidence score is computed in the kernel space and then transformed back to the input space. The specific formula for the confidence score depends on the type of kernel used.\n",
    "\n",
    "The confidence score can be transformed into a percentage chance by using a sigmoid function or other probability calibration techniques. These techniques can map the confidence score to a probability value between 0 and 1, which represents the estimated probability that the test case belongs to a certain class."
   ]
  },
  {
   "cell_type": "markdown",
   "id": "0be2162e",
   "metadata": {},
   "source": [
    "##### 5. Should you train a model on a training set with millions of instances and hundreds of features using the primal or dual form of the SVM problem ?"
   ]
  },
  {
   "cell_type": "markdown",
   "id": "7e7b560e",
   "metadata": {},
   "source": [
    "When training a model on a training set with millions of instances and hundreds of features, it is generally more efficient to use the dual form of the SVM problem instead of the primal form.\n",
    "\n",
    "The primal form of the SVM problem involves solving a quadratic programming (QP) problem with a number of variables equal to the number of features, which can be computationally expensive and memory-intensive when the number of features is very large. On the other hand, the dual form involves solving a smaller QP problem with a number of variables equal to the number of instances, which is more computationally efficient and memory-friendly when the number of instances is much larger than the number of features.\n",
    "\n",
    "Furthermore, the dual form of the SVM problem allows for the use of kernel functions to handle nonlinearly separable data, which is a common scenario when dealing with high-dimensional datasets. Kernel functions map the original feature space to a higher-dimensional feature space, where the data points may become linearly separable. However, using kernel functions with the primal form of the SVM problem can lead to a very large QP problem with a number of variables that is proportional to the number of instances times the number of features."
   ]
  },
  {
   "cell_type": "markdown",
   "id": "a96163dd",
   "metadata": {},
   "source": [
    "##### 6. Let's say you've used an RBF kernel to train an SVM classifier, but it appears to underfit the training collection. Is it better to raise or lower (gamma)? What about the letter C ?"
   ]
  },
  {
   "cell_type": "markdown",
   "id": "d137bd1f",
   "metadata": {},
   "source": [
    "If an SVM classifier trained with an RBF kernel appears to underfit the training collection, it may be better to increase the value of the hyperparameter gamma and/or the regularization parameter C.\n",
    "\n",
    "Gamma is a hyperparameter that determines the spread of the RBF kernel, which controls the influence of each training instance on the decision boundary. A low value of gamma makes the decision boundary more rigid, while a high value of gamma makes it more flexible. In the case of underfitting, it is possible that the RBF kernel is too rigid, and increasing gamma can make the decision boundary more flexible and better fit the training data.\n",
    "\n",
    "On the other hand, the regularization parameter C controls the trade-off between achieving a low training error and a low complexity of the decision boundary. A low value of C makes the SVM prioritize a simple decision boundary, while a high value of C makes it prioritize a low training error. In the case of underfitting, it is possible that the SVM is too focused on simplicity and not fitting the training data well enough, and increasing C can make the SVM prioritize the training error more and fit the data better.\n",
    "\n",
    "It is important to note that adjusting hyperparameters such as gamma and C can have a significant impact on the SVM's performance, and it is generally recommended to use cross-validation or other evaluation techniques to assess the performance of the SVM for different hyperparameter settings before choosing the best values for these hyperparameters."
   ]
  },
  {
   "cell_type": "markdown",
   "id": "6b3b649e",
   "metadata": {},
   "source": [
    "##### 7. To solve the soft margin linear SVM classifier problem with an off-the-shelf QP solver, how should the QP parameters (H, f, A, and b) be set ?"
   ]
  },
  {
   "cell_type": "markdown",
   "id": "747a255e",
   "metadata": {},
   "source": [
    "To solve the soft margin linear SVM classifier problem with an off-the-shelf QP solver, the QP parameters H, f, A, and b should be set as follows:\n",
    "\n",
    "H: This is the matrix of quadratic coefficients in the QP problem. For a soft margin linear SVM, the H matrix is an n x n diagonal matrix, where n is the number of training instances. The diagonal elements of H are equal to the regularization parameter C.\n",
    "\n",
    "f: This is the vector of linear coefficients in the QP problem. For a soft margin linear SVM, the f vector is an n x 1 vector of -1s and 1s, where the first m elements (corresponding to the first m training instances) are -1s and the remaining n-m elements are 1s.\n",
    "\n",
    "A: This is the matrix of linear equality constraints in the QP problem. For a soft margin linear SVM, the A matrix is an m x n matrix, where m is the number of training instances with non-zero slack variables. The i-th row of A corresponds to the i-th training instance with non-zero slack variable, and its j-th element is the j-th feature value of that instance.\n",
    "\n",
    "b: This is the vector of right-hand side values in the linear equality constraints. For a soft margin linear SVM, the b vector is an m x 1 vector of 1s."
   ]
  },
  {
   "cell_type": "markdown",
   "id": "54020cf8",
   "metadata": {},
   "source": [
    "##### 8. On a linearly separable dataset, train a LinearSVC. Then, using the same dataset, train an SVC and an SGDClassifier. See if you can get them to make a model that is similar to yours ?"
   ]
  },
  {
   "cell_type": "markdown",
   "id": "2200b96b",
   "metadata": {},
   "source": [
    "First, let's generate a linearly separable dataset using scikit-learn's make_blobs function:"
   ]
  },
  {
   "cell_type": "code",
   "execution_count": 2,
   "id": "66b64390",
   "metadata": {},
   "outputs": [],
   "source": [
    "from sklearn.datasets import make_blobs\n",
    "X, y = make_blobs(n_samples=100, centers=2, random_state=42)\n"
   ]
  },
  {
   "cell_type": "markdown",
   "id": "b2880b30",
   "metadata": {},
   "source": [
    "Next, we split the dataset into training and testing sets:"
   ]
  },
  {
   "cell_type": "code",
   "execution_count": 3,
   "id": "b6dcf164",
   "metadata": {},
   "outputs": [],
   "source": [
    "from sklearn.model_selection import train_test_split\n",
    "X_train, X_test, y_train, y_test = train_test_split(X, y, test_size=0.2, random_state=42)\n"
   ]
  },
  {
   "cell_type": "markdown",
   "id": "78d72e00",
   "metadata": {},
   "source": [
    "Now, we can train a LinearSVC on the training data and evaluate its performance on the testing data:"
   ]
  },
  {
   "cell_type": "code",
   "execution_count": 4,
   "id": "e385ac32",
   "metadata": {},
   "outputs": [
    {
     "name": "stdout",
     "output_type": "stream",
     "text": [
      "LinearSVC accuracy: 1.00\n"
     ]
    }
   ],
   "source": [
    "from sklearn.svm import LinearSVC\n",
    "from sklearn.metrics import accuracy_score\n",
    "\n",
    "linear_svc = LinearSVC()\n",
    "linear_svc.fit(X_train, y_train)\n",
    "y_pred = linear_svc.predict(X_test)\n",
    "accuracy = accuracy_score(y_test, y_pred)\n",
    "print(f\"LinearSVC accuracy: {accuracy:.2f}\")\n"
   ]
  },
  {
   "cell_type": "markdown",
   "id": "120b1cb1",
   "metadata": {},
   "source": [
    "Next, let's train an SVC on the same training data with a linear kernel and evaluate its performance:"
   ]
  },
  {
   "cell_type": "code",
   "execution_count": 7,
   "id": "04e6757b",
   "metadata": {},
   "outputs": [
    {
     "name": "stdout",
     "output_type": "stream",
     "text": [
      "SVC accuracy: 1.00\n"
     ]
    }
   ],
   "source": [
    "from sklearn.svm import SVC\n",
    "\n",
    "svc = SVC(kernel='linear')\n",
    "svc.fit(X_train, y_train)\n",
    "y_pred = svc.predict(X_test)\n",
    "accuracy = accuracy_score(y_test, y_pred)\n",
    "print(f\"SVC accuracy: {accuracy:.2f}\")\n",
    "\n"
   ]
  },
  {
   "cell_type": "markdown",
   "id": "b3f0358e",
   "metadata": {},
   "source": [
    "Finally, we can train an SGDClassifier with a hinge loss on the same training data and evaluate its performance:"
   ]
  },
  {
   "cell_type": "code",
   "execution_count": 8,
   "id": "866de87a",
   "metadata": {},
   "outputs": [
    {
     "name": "stdout",
     "output_type": "stream",
     "text": [
      "SGDClassifier accuracy: 1.00\n"
     ]
    }
   ],
   "source": [
    "from sklearn.linear_model import SGDClassifier\n",
    "\n",
    "sgd = SGDClassifier(loss='hinge', penalty='l2', alpha=0.001, max_iter=1000, random_state=42)\n",
    "sgd.fit(X_train, y_train)\n",
    "y_pred = sgd.predict(X_test)\n",
    "accuracy = accuracy_score(y_test, y_pred)\n",
    "print(f\"SGDClassifier accuracy: {accuracy:.2f}\")\n",
    "\n"
   ]
  },
  {
   "cell_type": "markdown",
   "id": "1e3a5205",
   "metadata": {},
   "source": [
    "We can also plot the decision boundaries of the three classifiers on the dataset to visually compare them:"
   ]
  },
  {
   "cell_type": "code",
   "execution_count": 9,
   "id": "78d57609",
   "metadata": {},
   "outputs": [
    {
     "data": {
      "image/png": "[encoded data removed]",
      "text/plain": [
       "<Figure size 640x480 with 1 Axes>"
      ]
     },
     "metadata": {},
     "output_type": "display_data"
    }
   ],
   "source": [
    "import matplotlib.pyplot as plt\n",
    "import numpy as np\n",
    "\n",
    "# Create a meshgrid of points to evaluate the decision boundary\n",
    "xx, yy = np.meshgrid(np.linspace(X[:, 0].min(), X[:, 0].max(), 100),\n",
    "                     np.linspace(X[:, 1].min(), X[:, 1].max(), 100))\n",
    "X_mesh = np.c_[xx.ravel(), yy.ravel()]\n",
    "\n",
    "# Predict the labels of the meshgrid points for each classifier\n",
    "linear_svc_preds = linear_svc.predict(X_mesh).reshape(xx.shape)\n",
    "svc_preds = svc.predict(X_mesh).reshape(xx.shape)\n",
    "sgd_preds = sgd.predict(X_mesh).reshape(xx.shape)\n",
    "\n",
    "# Plot the decision boundaries of the three classifiers\n",
    "plt.contourf(xx, yy, linear_svc_preds, cmap=plt.cm.Paired, alpha=0.3)\n",
    "plt.contour(xx, yy, svc_preds, colors='k', linestyles=['--'], levels=[0])\n",
    "plt.contour(xx, yy, sgd_preds, colors='r', linestyles=['-.'], levels=[0])\n",
    "plt.scatter(X[:, 0], X[:, 1], c=y, cmap=plt.cm.Paired)\n",
    "plt.title(\"LinearSVC vs SVC vs SGDClassifier\")\n",
    "plt.show()\n"
   ]
  },
  {
   "cell_type": "markdown",
   "id": "9db681d1",
   "metadata": {},
   "source": [
    "##### 9. On the MNIST dataset, train an SVM classifier. You'll need to use one-versus-the-rest to assign all 10 digits because SVM classifiers are binary classifiers. To accelerate up the process, you might want to tune the hyperparameters using small validation sets. What level of precision can you achieve ?"
   ]
  },
  {
   "cell_type": "markdown",
   "id": "ec96130d",
   "metadata": {},
   "source": [
    "First, let's load the MNIST dataset using scikit-learn's fetch_openml function and preprocess it:"
   ]
  },
  {
   "cell_type": "code",
   "execution_count": 10,
   "id": "2464033e",
   "metadata": {},
   "outputs": [
    {
     "name": "stderr",
     "output_type": "stream",
     "text": [
      "C:\\Users\\DELL\\anaconda3\\lib\\site-packages\\sklearn\\datasets\\_openml.py:932: FutureWarning: The default value of `parser` will change from `'liac-arff'` to `'auto'` in 1.4. You can set `parser='auto'` to silence this warning. Therefore, an `ImportError` will be raised from 1.4 if the dataset is dense and pandas is not installed. Note that the pandas parser may return different data types. See the Notes Section in fetch_openml's API doc for details.\n",
      "  warn(\n"
     ]
    }
   ],
   "source": [
    "from sklearn.datasets import fetch_openml\n",
    "from sklearn.model_selection import train_test_split\n",
    "from sklearn.preprocessing import StandardScaler\n",
    "\n",
    "# Load the MNIST dataset\n",
    "mnist = fetch_openml('mnist_784', version=1)\n",
    "\n",
    "# Split the dataset into training and testing sets\n",
    "X_train, X_test, y_train, y_test = train_test_split(mnist.data, mnist.target, test_size=0.2, random_state=42)\n",
    "\n",
    "# Scale the features to zero mean and unit variance\n",
    "scaler = StandardScaler()\n",
    "X_train = scaler.fit_transform(X_train)\n",
    "X_test = scaler.transform(X_test)\n"
   ]
  },
  {
   "cell_type": "markdown",
   "id": "f1d358f6",
   "metadata": {},
   "source": [
    "Next, we can train an SVM classifier with an RBF kernel using scikit-learn's SVC class with OvR strategy and tune its hyperparameters using a small validation set:"
   ]
  },
  {
   "cell_type": "code",
   "execution_count": null,
   "id": "860597fb",
   "metadata": {},
   "outputs": [
    {
     "name": "stdout",
     "output_type": "stream",
     "text": [
      "Fitting 3 folds for each of 9 candidates, totalling 27 fits\n"
     ]
    }
   ],
   "source": [
    "from sklearn.svm import SVC\n",
    "from sklearn.metrics import accuracy_score\n",
    "from sklearn.model_selection import GridSearchCV\n",
    "\n",
    "# Split the training set into a training and validation set\n",
    "X_train_subset, X_val, y_train_subset, y_val = train_test_split(X_train, y_train, test_size=0.1, random_state=42)\n",
    "\n",
    "# Define a parameter grid to search over\n",
    "param_grid = {'C': [0.1, 1, 10], 'gamma': [0.01, 0.1, 1]}\n",
    "\n",
    "# Train an SVM classifier with RBF kernel and OvR strategy using a small subset of the training data\n",
    "svm = SVC(kernel='rbf', decision_function_shape='ovr')\n",
    "grid_search = GridSearchCV(svm, param_grid, cv=3, n_jobs=-1, verbose=2)\n",
    "grid_search.fit(X_train_subset, y_train_subset)\n",
    "\n",
    "# Evaluate the best SVM classifier on the validation set and test set\n",
    "best_svm = grid_search.best_estimator_\n",
    "y_val_pred = best_svm.predict(X_val)\n",
    "val_accuracy = accuracy_score(y_val, y_val_pred)\n",
    "print(f\"Validation accuracy: {val_accuracy:.2f}\")\n",
    "\n",
    "y_test_pred = best_svm.predict(X_test)\n",
    "test_accuracy = accuracy_score(y_test, y_test_pred)\n",
    "print(f\"Test accuracy: {test_accuracy:.2f}\")\n"
   ]
  },
  {
   "cell_type": "markdown",
   "id": "5b686929",
   "metadata": {},
   "source": [
    "##### 10. On the California housing dataset, train an SVM regressor ?"
   ]
  },
  {
   "cell_type": "markdown",
   "id": "0e3d5b3f",
   "metadata": {},
   "source": [
    "First, let's load the California housing dataset using scikit-learn's fetch_california_housing function and preprocess it:"
   ]
  },
  {
   "cell_type": "code",
   "execution_count": null,
   "id": "053611dd",
   "metadata": {},
   "outputs": [],
   "source": [
    "from sklearn.datasets import fetch_california_housing\n",
    "from sklearn.model_selection import train_test_split\n",
    "from sklearn.preprocessing import StandardScaler\n",
    "\n",
    "# Load the California housing dataset\n",
    "housing = fetch_california_housing()\n",
    "\n",
    "# Split the dataset into training and testing sets\n",
    "X_train, X_test, y_train, y_test = train_test_split(housing.data, housing.target, test_size=0.2, random_state=42)\n",
    "\n",
    "# Scale the features to zero mean and unit variance\n",
    "scaler = StandardScaler()\n",
    "X_train = scaler.fit_transform(X_train)\n",
    "X_test = scaler.transform(X_test)\n"
   ]
  },
  {
   "cell_type": "markdown",
   "id": "0b3f8a83",
   "metadata": {},
   "source": [
    "Next, we can train an SVM regressor with a linear kernel using scikit-learn's SVR class and evaluate it on the test set:"
   ]
  },
  {
   "cell_type": "code",
   "execution_count": null,
   "id": "11491461",
   "metadata": {},
   "outputs": [],
   "source": [
    "from sklearn.svm import SVR\n",
    "from sklearn.metrics import mean_squared_error\n",
    "\n",
    "# Train an SVM regressor with a linear kernel\n",
    "svm = SVR(kernel='linear')\n",
    "svm.fit(X_train, y_train)\n",
    "\n",
    "# Evaluate the SVM regressor on the test set\n",
    "y_test_pred = svm.predict(X_test)\n",
    "mse = mean_squared_error(y_test, y_test_pred)\n",
    "print(f\"Test MSE: {mse:.2f}\")\n"
   ]
  },
  {
   "cell_type": "code",
   "execution_count": null,
   "id": "fbc8803c",
   "metadata": {},
   "outputs": [],
   "source": []
  }
 ],
 "metadata": {
  "kernelspec": {
   "display_name": "Python 3 (ipykernel)",
   "language": "python",
   "name": "python3"
  },
  "language_info": {
   "codemirror_mode": {
    "name": "ipython",
    "version": 3
   },
   "file_extension": ".py",
   "mimetype": "text/x-python",
   "name": "python",
   "nbconvert_exporter": "python",
   "pygments_lexer": "ipython3",
   "version": "3.10.9"
  }
 },
 "nbformat": 4,
 "nbformat_minor": 5
}
