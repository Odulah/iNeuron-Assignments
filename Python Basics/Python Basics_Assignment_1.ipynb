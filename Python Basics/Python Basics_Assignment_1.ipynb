{
 "cells": [
  {
   "cell_type": "markdown",
   "id": "71601bf2",
   "metadata": {},
   "source": [
    "# Assignment 1 Solutions"
   ]
  },
  {
   "cell_type": "markdown",
   "id": "5b38a3f0",
   "metadata": {},
   "source": [
    "### SUBMITTED BY: Aadil Maqbool"
   ]
  },
  {
   "cell_type": "markdown",
   "id": "e4f24240",
   "metadata": {},
   "source": [
    "#### 1. In the below elements which of them are values or an expression? eg:- values can be integer or string and expressions will be mathematical operators\n",
    "\n",
    "### *,'hello', -87.8,-,/,+,6"
   ]
  },
  {
   "cell_type": "markdown",
   "id": "d0584ca9",
   "metadata": {},
   "source": [
    "##### Ans: There are a total of 4 Operators and 3 Expressions, They are:\n",
    "##### Operators: *,-,/,+\n",
    "##### Expressions: 'hello', 87.8, 6\n"
   ]
  },
  {
   "cell_type": "markdown",
   "id": "8ed65b56",
   "metadata": {},
   "source": [
    "### 2. What is the difference between string and variable?"
   ]
  },
  {
   "cell_type": "markdown",
   "id": "b9003fcc",
   "metadata": {},
   "source": [
    "##### Ans: A Variable is used to store of information, and a String is a type of information you would store in a Variable. A variable is created the moment you first assign a value to it. Example: a = 69, b = \"Eddie\". Here a and b are variables.\n",
    "\n",
    "##### A String is a group of characters or a single character usually enclosed in Double quotes \" \" or single quotes ' '. Even triple quotes can be used in Python but generally used to represent multiline strings and docstrings. Example: String = 'Hey'"
   ]
  },
  {
   "cell_type": "markdown",
   "id": "82436e1b",
   "metadata": {},
   "source": [
    "### 3. Describe three different Data Types ?"
   ]
  },
  {
   "cell_type": "markdown",
   "id": "2a0254b0",
   "metadata": {},
   "source": [
    "##### The three differenet data types are as:\n",
    "##### 1)int data type: We can use int data type to represent whole numbers (integral values) Example: int_number=69\n",
    "##### 2)float data type: We can use float data type to represent floating point values (decimal values) Example: floa_number=3.6e9\n",
    "##### 3)complex data type: Complex number is represented by complex class. It is specified as (real part) + (imaginary part)j. Example: com_num=69+7.9j"
   ]
  },
  {
   "cell_type": "code",
   "execution_count": 6,
   "id": "832d9a15",
   "metadata": {},
   "outputs": [
    {
     "name": "stdout",
     "output_type": "stream",
     "text": [
      "69 <class 'int'>\n",
      "1600000000.0 <class 'float'>\n",
      "(69+7.9j) <class 'complex'>\n"
     ]
    }
   ],
   "source": [
    "# Example for int data type\n",
    "int_number= 69\n",
    "print(int_number, type(int_number))\n",
    "# Example for float data type\n",
    "flo_num=1.6e9\n",
    "print(flo_num, type(flo_num))\n",
    "# Example for Complex data type\n",
    "com_num=69+7.9j\n",
    "print(com_num, type(com_num))"
   ]
  },
  {
   "cell_type": "markdown",
   "id": "cfdae0e9",
   "metadata": {},
   "source": [
    "### 4. What is an expression made up of? What do all expressions do?"
   ]
  },
  {
   "cell_type": "markdown",
   "id": "236177b7",
   "metadata": {},
   "source": [
    "##### Ans: An expression is a combination of values, variables, operators, and calls to functions. Expressions need to be evaluated. If we ask Python to print an expression, the interpreter evaluates the expression and displays the result. An expression is evaluated as per the precedence of its operators. So that if there is more than one operator in an expression, their precedence decides which operation will be performed first."
   ]
  },
  {
   "cell_type": "code",
   "execution_count": 8,
   "id": "21084000",
   "metadata": {},
   "outputs": [
    {
     "data": {
      "text/plain": [
       "35"
      ]
     },
     "execution_count": 8,
     "metadata": {},
     "output_type": "execute_result"
    }
   ],
   "source": [
    "5*7+69-69 # Is an Expression, The Python Interpreter Evaluates it to 35"
   ]
  },
  {
   "cell_type": "markdown",
   "id": "6abcfdae",
   "metadata": {},
   "source": [
    "### 5.This assignment statements, like spam = 10. What is the difference between an expression and a statement?"
   ]
  },
  {
   "cell_type": "markdown",
   "id": "5cf8017c",
   "metadata": {},
   "source": [
    "##### Ans: An expression is a combination of values, variables, and operators.When we type an expression at the prompt, the interpreter evaluates it, which means that it finds the value of the expression.An expression is evaluated as per the precedence of its operators. So that if there is more than one operator in an expression, their precedence decides which operation will be performed first.\n",
    "\n",
    "##### eg: 5*4+50-50 is an example of a expression\n",
    "\n",
    "##### A statement is a unit of code that has an effect, like creating a variable or displaying a value.When we type a statement, the interpreter executes it, which means that it does whatever the statement says. In general, statements don’t have values. A statement is an instruction that a Python interpreter can execute. There are mainly four types of statements in Python, Print statements, Assignment statements, Conditional statements and Looping statements.\n",
    "\n",
    "##### eg: AIM = 'Yes!! I am going to be a data scientist', spam = 69"
   ]
  },
  {
   "cell_type": "code",
   "execution_count": 9,
   "id": "e36b6b91",
   "metadata": {},
   "outputs": [
    {
     "name": "stdout",
     "output_type": "stream",
     "text": [
      "Eddie\n"
     ]
    }
   ],
   "source": [
    "#Example:\n",
    "5*7+69-69 # Is a Expression\n",
    "AIM = 'yes!! I am going to be a data scientist' # Is a Statement\n",
    "print(\"Eddie\") # Is a Expression Statement"
   ]
  },
  {
   "cell_type": "markdown",
   "id": "6d4ef4e3",
   "metadata": {},
   "source": [
    "### 6.After running the following code, what does the variable bacon contain?\n",
    "### bacon = 22\n",
    "### bacon + 1"
   ]
  },
  {
   "cell_type": "markdown",
   "id": "2a5e3202",
   "metadata": {},
   "source": [
    "##### Ans: The variable bacon is set to 22 .The expression bacon + 1 does not reassign the value in bacon (that would the case if the expression is like bacon = bacon + 1 instead of bacon + 1)"
   ]
  },
  {
   "cell_type": "code",
   "execution_count": 10,
   "id": "4f8f81b9",
   "metadata": {},
   "outputs": [
    {
     "name": "stdout",
     "output_type": "stream",
     "text": [
      "23\n"
     ]
    }
   ],
   "source": [
    "#Example\n",
    "bacon=22\n",
    "bacon=bacon+1 \n",
    "print(bacon)"
   ]
  },
  {
   "cell_type": "markdown",
   "id": "cd245fe8",
   "metadata": {},
   "source": [
    "### 7.What should the values of the following two terms be?\n",
    "\n",
    "#### 'spam'+'spamspam'\n",
    "#### 'spam'*3"
   ]
  },
  {
   "cell_type": "code",
   "execution_count": 11,
   "id": "6acfd60e",
   "metadata": {},
   "outputs": [
    {
     "name": "stdout",
     "output_type": "stream",
     "text": [
      "spamspamspam\n",
      "spamspamspam\n"
     ]
    }
   ],
   "source": [
    "print('spam'+'spamspam') # string concatenation\n",
    "print('spam'*3) # string multiplication"
   ]
  },
  {
   "cell_type": "markdown",
   "id": "81e630eb",
   "metadata": {},
   "source": [
    "### Why is eggs a valid variable name while 100 is invalid?"
   ]
  },
  {
   "cell_type": "markdown",
   "id": "a9600e75",
   "metadata": {},
   "source": [
    "##### Ans: As per python,Variable names cannot begin with a number. Variable name must start with a letter or the underscore character.Variable name can only contain alpha-numeric characters and underscores (A-z, 0-9, & _ ).The reserved words(keywords) cannot be used naming the variable."
   ]
  },
  {
   "cell_type": "code",
   "execution_count": 15,
   "id": "66ffe513",
   "metadata": {},
   "outputs": [
    {
     "name": "stdout",
     "output_type": "stream",
     "text": [
      "eddie\n"
     ]
    }
   ],
   "source": [
    "eggs='eddie' # Valid variable Initilization\n",
    "print(eggs) #prints the value of egg ie Ineuron"
   ]
  },
  {
   "cell_type": "code",
   "execution_count": 14,
   "id": "3f8500bb",
   "metadata": {},
   "outputs": [
    {
     "ename": "SyntaxError",
     "evalue": "cannot assign to literal (3442674124.py, line 1)",
     "output_type": "error",
     "traceback": [
      "\u001b[1;36m  Cell \u001b[1;32mIn [14], line 1\u001b[1;36m\u001b[0m\n\u001b[1;33m    69='hi' # Invalid Variable Initilization\u001b[0m\n\u001b[1;37m    ^\u001b[0m\n\u001b[1;31mSyntaxError\u001b[0m\u001b[1;31m:\u001b[0m cannot assign to literal\n"
     ]
    }
   ],
   "source": [
    "69='hi' # Invalid Variable Initilization\n",
    "print(69) # Raises a Syntax Error as 100 is not a valid variable name"
   ]
  },
  {
   "cell_type": "markdown",
   "id": "c4d83b57",
   "metadata": {},
   "source": [
    "### 9.What three functions can be used to get the integer,floating-point number,or string version of a value?"
   ]
  },
  {
   "cell_type": "markdown",
   "id": "11eda903",
   "metadata": {},
   "source": [
    "##### Ans: The int(),float(),and str() functions will evaluate to the integer,floating-point number,string version of the value passed to them."
   ]
  },
  {
   "cell_type": "code",
   "execution_count": 18,
   "id": "916284a0",
   "metadata": {},
   "outputs": [
    {
     "name": "stdout",
     "output_type": "stream",
     "text": [
      "int(10.0) ->  10\n",
      "float(10) ->  10.0\n",
      "str(10) ->  10\n"
     ]
    }
   ],
   "source": [
    "print('int(10.0) -> ',int(10.0)) # int() function converts given input to int\n",
    "print('float(10) -> ',float(10)) # float() function converts given input to float\n",
    "print('str(10) -> ',str(10)) # str() function converts given input to string"
   ]
  },
  {
   "cell_type": "markdown",
   "id": "af6f3f69",
   "metadata": {},
   "source": [
    "### 10.Why does this expression cause an error? how can you fix it?"
   ]
  },
  {
   "cell_type": "markdown",
   "id": "080ce91b",
   "metadata": {},
   "source": [
    "#### 'I have eaten ' + 99 + 'burritos.'"
   ]
  },
  {
   "cell_type": "code",
   "execution_count": 19,
   "id": "6c008b55",
   "metadata": {},
   "outputs": [
    {
     "ename": "TypeError",
     "evalue": "can only concatenate str (not \"int\") to str",
     "output_type": "error",
     "traceback": [
      "\u001b[1;31m---------------------------------------------------------------------------\u001b[0m",
      "\u001b[1;31mTypeError\u001b[0m                                 Traceback (most recent call last)",
      "Cell \u001b[1;32mIn [19], line 1\u001b[0m\n\u001b[1;32m----> 1\u001b[0m \u001b[38;5;124;43m'\u001b[39;49m\u001b[38;5;124;43mI have eaten \u001b[39;49m\u001b[38;5;124;43m'\u001b[39;49m\u001b[43m \u001b[49m\u001b[38;5;241;43m+\u001b[39;49m\u001b[43m \u001b[49m\u001b[38;5;241;43m99\u001b[39;49m \u001b[38;5;241m+\u001b[39m \u001b[38;5;124m'\u001b[39m\u001b[38;5;124mburritos.\u001b[39m\u001b[38;5;124m'\u001b[39m\n",
      "\u001b[1;31mTypeError\u001b[0m: can only concatenate str (not \"int\") to str"
     ]
    }
   ],
   "source": [
    "'I have eaten ' + 99 + 'burritos.'"
   ]
  },
  {
   "cell_type": "markdown",
   "id": "50478fe8",
   "metadata": {},
   "source": [
    "##### Ans: This cause of error is 99.because 99 is not a string. 99 must be typecasted to a string to fix this error. The correct way of representing is mentioned below:"
   ]
  },
  {
   "cell_type": "code",
   "execution_count": 20,
   "id": "1521be0f",
   "metadata": {},
   "outputs": [
    {
     "name": "stdout",
     "output_type": "stream",
     "text": [
      "I have eaten 99 burritos\n"
     ]
    }
   ],
   "source": [
    "print('I have eaten '+str(99)+' burritos')"
   ]
  },
  {
   "cell_type": "code",
   "execution_count": null,
   "id": "2a213065",
   "metadata": {},
   "outputs": [],
   "source": []
  }
 ],
 "metadata": {
  "kernelspec": {
   "display_name": "Python 3 (ipykernel)",
   "language": "python",
   "name": "python3"
  },
  "language_info": {
   "codemirror_mode": {
    "name": "ipython",
    "version": 3
   },
   "file_extension": ".py",
   "mimetype": "text/x-python",
   "name": "python",
   "nbconvert_exporter": "python",
   "pygments_lexer": "ipython3",
   "version": "3.9.12"
  }
 },
 "nbformat": 4,
 "nbformat_minor": 5
}
